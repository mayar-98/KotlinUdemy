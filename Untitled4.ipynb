{
  "nbformat": 4,
  "nbformat_minor": 0,
  "metadata": {
    "colab": {
      "provenance": [],
      "authorship_tag": "ABX9TyN5/CcQLrdag33q+eaUib/m",
      "include_colab_link": true
    },
    "kernelspec": {
      "name": "python3",
      "display_name": "Python 3"
    },
    "language_info": {
      "name": "python"
    }
  },
  "cells": [
    {
      "cell_type": "markdown",
      "metadata": {
        "id": "view-in-github",
        "colab_type": "text"
      },
      "source": [
        "<a href=\"https://colab.research.google.com/github/mayar-98/KotlinUdemy/blob/master/Untitled4.ipynb\" target=\"_parent\"><img src=\"https://colab.research.google.com/assets/colab-badge.svg\" alt=\"Open In Colab\"/></a>"
      ]
    },
    {
      "cell_type": "code",
      "execution_count": null,
      "metadata": {
        "id": "m1xQku2eVIgL"
      },
      "outputs": [],
      "source": [
        "import pandas as pd\n"
      ]
    },
    {
      "cell_type": "code",
      "source": [
        "from sklearn.model_selection import train_test_split"
      ],
      "metadata": {
        "id": "YpvpaRk2VU23"
      },
      "execution_count": null,
      "outputs": []
    },
    {
      "cell_type": "code",
      "source": [
        "from sklearn.linear_model import LinearRegression"
      ],
      "metadata": {
        "id": "NqcKKTd6VXEX"
      },
      "execution_count": null,
      "outputs": []
    },
    {
      "cell_type": "code",
      "source": [
        "from sklearn.preprocessing import OneHotEncoder"
      ],
      "metadata": {
        "id": "ytpT1CPOVZUa"
      },
      "execution_count": null,
      "outputs": []
    },
    {
      "cell_type": "code",
      "source": [
        "from sklearn.compose import ColumnTransformer"
      ],
      "metadata": {
        "id": "0zhCd8FpVj2h"
      },
      "execution_count": null,
      "outputs": []
    },
    {
      "cell_type": "code",
      "source": [
        "from sklearn.pipeline import Pipeline"
      ],
      "metadata": {
        "id": "fI1rlcKgVmEz"
      },
      "execution_count": null,
      "outputs": []
    },
    {
      "cell_type": "code",
      "source": [
        "from sklearn.metrics import mean_squared_error, r2_score"
      ],
      "metadata": {
        "id": "Xusaj_ApVoLL"
      },
      "execution_count": null,
      "outputs": []
    },
    {
      "cell_type": "code",
      "source": [
        "def perform_linear_regression(data_path, target_variable=\"Selling_Price\", drop_car_name=True, encode_fuel_type=True):\n",
        "    \"\"\"\n",
        "    Performs linear regression analysis on a car dataset.\n",
        "​\n",
        "    Args:\n",
        "        data_path (str): Path to the CSV file containing car data.\n",
        "        target_variable (str, optional): The variable to predict (default: \"Selling_Price\").\n",
        "        drop_car_name (bool, optional): Whether to drop the \"Car_Name\" column (default: True).\n",
        "        encode_fuel_type (bool, optional): Whether to encode the \"Fuel_Type\" column (default: True).\n",
        "​\n",
        "    Returns:\n",
        "        None\n",
        "    \"\"\""
      ],
      "metadata": {
        "id": "jTXJiDTFVqf_"
      },
      "execution_count": null,
      "outputs": []
    },
    {
      "cell_type": "code",
      "source": [
        "  df = pd.read_csv(data_path)\n",
        "    if drop_car_name and 'Car_Name' in df.columns:\n",
        "        df = df.drop(\"Car_Name\", axis=1)  # Drop Car_Name\n",
        "\n",
        "\n",
        "    if target_variable not in df.columns:\n",
        "        return"
      ],
      "metadata": {
        "id": "J0y1V49zVvma"
      },
      "execution_count": null,
      "outputs": []
    },
    {
      "cell_type": "code",
      "source": [
        " y = df[target_variable]\n",
        "    X = df.drop(target_variable, axis=1)\n",
        "    X_train, X_test, y_train, y_test = train_test_split(X, y, test_size=0.2, random_state=42)"
      ],
      "metadata": {
        "id": "KbW-ejzeVzmX"
      },
      "execution_count": null,
      "outputs": []
    },
    {
      "cell_type": "code",
      "source": [
        "    if encode_fuel_type and 'Fuel_Type' in X.columns:\n",
        "        preprocessor = ColumnTransformer(\n",
        "            transformers=[\n",
        "                ('num', 'passthrough', X.select_dtypes(include=['int64', 'float64']).columns),\n",
        "                ('cat', OneHotEncoder(), ['Fuel_Type'])\n",
        "            ],\n",
        "            remainder='drop'\n",
        "              else:\n",
        "        preprocessor = ColumnTransformer(\n",
        "            transformers=[\n",
        "                ('num', 'passthrough', X.select_dtypes(include=['int64', 'float64']).columns)\n",
        "            ],\n",
        "            remainder='drop'\n",
        "        )\n",
        "​"
      ],
      "metadata": {
        "id": "P_kAkU6xV2Sm"
      },
      "execution_count": null,
      "outputs": []
    },
    {
      "cell_type": "code",
      "source": [
        "  pipeline = Pipeline([\n",
        "        ('preprocessor', preprocessor),\n",
        "        ('regressor', LinearRegression())\n",
        "    ])\n",
        "   pipeline.fit(X_train, y_train)"
      ],
      "metadata": {
        "id": "RwVoRFtYV8cV"
      },
      "execution_count": null,
      "outputs": []
    },
    {
      "cell_type": "code",
      "source": [
        " y_pred = pipeline.predict(X_test)\n",
        "    mse = mean_squared_error(y_test, y_pred)\n",
        "    r2 = r2_score(y_test, y_pred)\n",
        "​\n",
        "    print(f\"Data Path: {data_path}\")\n",
        "    print(\"Mean Squared Error:\", mse)\n",
        "    print(\"R-squared:\", r2)"
      ],
      "metadata": {
        "id": "k4hNF4rcWBta"
      },
      "execution_count": null,
      "outputs": []
    },
    {
      "cell_type": "code",
      "source": [
        "car_data = pd.read_csv(\"car data.csv\")\n",
        "car_dekho = pd.read_csv(\"CAR DETAILS FROM CAR DEKHO.csv\")\n",
        "car_v4 = pd.read_csv(\"Car details v3.csv\")\n",
        "car_v3 = pd.read_csv(\"car details v4.csv\")\n",
        "​"
      ],
      "metadata": {
        "id": "nnSzNxRjWD_G"
      },
      "execution_count": null,
      "outputs": []
    },
    {
      "cell_type": "code",
      "source": [
        "perform_linear_regression(\"car data.csv\")\n",
        "perform_linear_regression(\"CAR DETAILS FROM CAR DEKHO.csv\", target_variable=\"selling_price\")\n",
        "perform_linear_regression(\"Car details v3.csv\")\n",
        "perform_linear_regression(\"car details v4.csv\")"
      ],
      "metadata": {
        "id": "wd06-HA6WGPT"
      },
      "execution_count": null,
      "outputs": []
    },
    {
      "cell_type": "code",
      "source": [
        "Data Path: car data.csv\n",
        "Mean Squared Error: 3.5184502892708323\n",
        "R-squared: 0.8472602122958197\n",
        "Data Path: CAR DETAILS FROM CAR DEKHO.csv\n",
        "Mean Squared Error: 255707328588.5748\n",
        "R-squared: 0.16208313768226656"
      ],
      "metadata": {
        "id": "qK_BHP0XWIj_"
      },
      "execution_count": null,
      "outputs": []
    }
  ]
}