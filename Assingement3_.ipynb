{
  "nbformat": 4,
  "nbformat_minor": 0,
  "metadata": {
    "colab": {
      "provenance": [],
      "authorship_tag": "ABX9TyMg5v5idn7KOLkQFxz9xBtx",
      "include_colab_link": true
    },
    "kernelspec": {
      "name": "python3",
      "display_name": "Python 3"
    },
    "language_info": {
      "name": "python"
    }
  },
  "cells": [
    {
      "cell_type": "markdown",
      "metadata": {
        "id": "view-in-github",
        "colab_type": "text"
      },
      "source": [
        "<a href=\"https://colab.research.google.com/github/mayar-98/KotlinUdemy/blob/master/Assingement3_.ipynb\" target=\"_parent\"><img src=\"https://colab.research.google.com/assets/colab-badge.svg\" alt=\"Open In Colab\"/></a>"
      ]
    },
    {
      "cell_type": "markdown",
      "source": [
        "Let us start writing the class Customer that is composed of the following\n",
        "attributes:\n",
        "o name\n",
        "o age"
      ],
      "metadata": {
        "id": "1_sqg1d6Col_"
      }
    },
    {
      "cell_type": "code",
      "execution_count": 1,
      "metadata": {
        "id": "oKjFNoQi1Fix"
      },
      "outputs": [],
      "source": [
        "from typing_extensions import Self\n",
        "\n",
        "class customer:\n",
        "\n",
        "  def __init__(self,name,age):\n",
        "    Self.name = name\n",
        "    self.age = age\n",
        "\n",
        "  def __str__(Self):\n",
        "    return f\"customer(name:{self.name}, Age:{Self.age})\"\n",
        "\n",
        "    customer1= customer(\"yyaa\", 80)\n",
        "    print(customer1)\n"
      ]
    },
    {
      "cell_type": "markdown",
      "source": [],
      "metadata": {
        "id": "dtJRfks9D0-E"
      }
    },
    {
      "cell_type": "code",
      "source": [
        "class MainBikeRental:\n",
        "  def __init__(self, value):\n",
        "    self. bike = []\n",
        "    self. rental = []\n",
        "    self. bike = (value)\n",
        "    self. rental = (value)\n",
        "\n",
        "    def add_bike(self,bike):\n",
        "      self.append(bike)\n",
        "\n",
        "    def delete_rental(self,bike):\n",
        "      self.del(rental)\n",
        "\n",
        "    def rent_bkie(self,customer, bike):\n",
        "      if bike in self_bike:\n",
        "        self.bike.append(rental)\n",
        "        self.rental.remove(bike)\n",
        "        return True\n",
        "    return False"
      ],
      "metadata": {
        "id": "CtSbBKI1IFV6"
      },
      "execution_count": null,
      "outputs": []
    },
    {
      "cell_type": "code",
      "source": [
        "def request_bike(self,customer,no_of_bike):\n",
        "  if customer.age < 0:\n",
        "    print(\"customer must be older than 4 years old\")\n",
        "  return False\n",
        "\n",
        "  if no_if_bikes <= len(self.bike):\n",
        "    for _ in range(no_of_bike):\n",
        "      rental_bike = self.bike[0]\n",
        "      self.rental.append((customer, rented_bike))\n",
        "      print(\"bike rentedn successfully\")\n",
        "      return True\n",
        "    else:\n",
        "      print(\"not enough bike\")\n",
        "      return False\n",
        "Rental_System = MainRentalBike():\n",
        "\n",
        "Rental_System_add.bkie(MountainBkie,RoadBike)\n",
        "\n",
        "Rental_System_.request_bike(customer)\n",
        "\n",
        "print(Rental_System)\n"
      ],
      "metadata": {
        "colab": {
          "base_uri": "https://localhost:8080/",
          "height": 211
        },
        "id": "7yiuHx9NTGBj",
        "outputId": "21f50a63-df05-45fb-bec8-e1c2b8b87967"
      },
      "execution_count": 3,
      "outputs": [
        {
          "output_type": "error",
          "ename": "NameError",
          "evalue": "name 'MainRentalBike' is not defined",
          "traceback": [
            "\u001b[0;31m---------------------------------------------------------------------------\u001b[0m",
            "\u001b[0;31mNameError\u001b[0m                                 Traceback (most recent call last)",
            "\u001b[0;32m<ipython-input-3-9935b64a8c82>\u001b[0m in \u001b[0;36m<cell line: 15>\u001b[0;34m()\u001b[0m\n\u001b[1;32m     13\u001b[0m       \u001b[0mprint\u001b[0m\u001b[0;34m(\u001b[0m\u001b[0;34m\"not enough bike\"\u001b[0m\u001b[0;34m)\u001b[0m\u001b[0;34m\u001b[0m\u001b[0;34m\u001b[0m\u001b[0m\n\u001b[1;32m     14\u001b[0m       \u001b[0;32mreturn\u001b[0m \u001b[0;32mFalse\u001b[0m\u001b[0;34m\u001b[0m\u001b[0;34m\u001b[0m\u001b[0m\n\u001b[0;32m---> 15\u001b[0;31m \u001b[0mRental_System\u001b[0m \u001b[0;34m=\u001b[0m \u001b[0mMainRentalBike\u001b[0m\u001b[0;34m(\u001b[0m\u001b[0;34m)\u001b[0m\u001b[0;34m\u001b[0m\u001b[0;34m\u001b[0m\u001b[0m\n\u001b[0m\u001b[1;32m     16\u001b[0m \u001b[0;34m\u001b[0m\u001b[0m\n\u001b[1;32m     17\u001b[0m \u001b[0mRental_System_add\u001b[0m\u001b[0;34m.\u001b[0m\u001b[0mbkie\u001b[0m\u001b[0;34m(\u001b[0m\u001b[0mMountainBkie\u001b[0m\u001b[0;34m,\u001b[0m\u001b[0mRoadBike\u001b[0m\u001b[0;34m)\u001b[0m\u001b[0;34m\u001b[0m\u001b[0;34m\u001b[0m\u001b[0m\n",
            "\u001b[0;31mNameError\u001b[0m: name 'MainRentalBike' is not defined"
          ]
        }
      ]
    },
    {
      "cell_type": "code",
      "source": [
        "def total_cost(Self):\n",
        "  return.len(self.request_bike) * 60\n",
        "\n",
        "def __str_(Self):\n",
        "  return f\"available bikes {len(self.bike)}, total_rental:{len(self._rental)}\"\n",
        ""
      ],
      "metadata": {
        "id": "0betiRJWhh2l"
      },
      "execution_count": null,
      "outputs": []
    },
    {
      "cell_type": "code",
      "source": [
        "class bike:\n",
        "  def __init__(self,name,price):\n",
        "    Self._name = name\n",
        "    Self._price = price\n",
        "\n",
        "  def name(Self):\n",
        "     return self._name\n",
        "  def name(self,value):\n",
        "    self._name = value\n",
        ""
      ],
      "metadata": {
        "id": "I6hEey4vj08S"
      },
      "execution_count": null,
      "outputs": []
    },
    {
      "cell_type": "code",
      "source": [
        "class electricbike(bike):\n",
        "  def __init__(self, name, price,bettery usage,charge):\n",
        "     self._battery_usage = battery_capacity\n",
        "     self._charge = charge\n",
        "\n",
        "     def battery_charge(self):\n",
        "        return self._battery_charge\n",
        "\n",
        "\n",
        ""
      ],
      "metadata": {
        "id": "GPt6CSZ9muPb"
      },
      "execution_count": null,
      "outputs": []
    },
    {
      "cell_type": "code",
      "source": [
        "class NormalBike(Bike):\n",
        "    def __init__(self, name, price, maxspeed):\n",
        "        super().__init__(name, price)\n",
        "        self._maxspeed = maxspeed\n",
        "\n",
        "     def max_speed(self):\n",
        "        return self._maxspeed\n",
        "\n",
        "\n",
        "    def maxspeed(self, value):\n",
        "        if value < 0:\n",
        "            raise ValueError(\"Max speed cannot be negative\")\n",
        "        self._maxspeed = value\n",
        "\n",
        "    def __str__(self):\n",
        "        return (f\"Normal Bike(Name: {self.name}, Price: ${self.price:.2f}, \"\n",
        "                f\"Max Speed: {self.maxspeed} km/h)\")"
      ],
      "metadata": {
        "id": "rfRUWvZes7OM"
      },
      "execution_count": null,
      "outputs": []
    },
    {
      "cell_type": "code",
      "source": [],
      "metadata": {
        "id": "s_A4g_b-gYZm"
      },
      "execution_count": null,
      "outputs": []
    }
  ]
}